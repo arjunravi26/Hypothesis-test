{
 "cells": [
  {
   "cell_type": "markdown",
   "metadata": {},
   "source": [
    "# Hypothesis Testing"
   ]
  },
  {
   "cell_type": "code",
   "execution_count": 34,
   "metadata": {},
   "outputs": [],
   "source": [
    "from scipy import stats\n",
    "import statsmodels.api as sm\n",
    "from statsmodels.stats.multicomp import pairwise_tukeyhsd\n",
    "from statsmodels.stats.weightstats import ztest\n",
    "from statsmodels.formula.api import ols\n",
    "import math\n",
    "import numpy as np\n",
    "import pandas as pd"
   ]
  },
  {
   "cell_type": "markdown",
   "metadata": {},
   "source": [
    "## Z-test"
   ]
  },
  {
   "cell_type": "markdown",
   "metadata": {},
   "source": [
    "### **Note**\n"
   ]
  },
  {
   "cell_type": "markdown",
   "metadata": {},
   "source": [
    "**Z-Test Quick Revision Note**\n",
    "\n",
    "**Definition**:  \n",
    "\n",
    "A Z-test is a statistical method used to determine if there is a significant difference between the means of two groups, particularly when the sample size is large (typically \\( n > 30 \\)) and the population variance is known. It helps assess hypotheses about population parameters when data follows a normal distribution.\n",
    "\n",
    "**Equation**:\n",
    "\n",
    "For a Z-test, the equation is:\n",
    "\n",
    "Z = (X bar - mu) / (sigma / root(n))\n",
    "\n",
    "where:\n",
    "-  X bar = sample mean,\n",
    "-  mu = population mean,\n",
    "-  sigma  = population standard deviation,\n",
    "-  n  = sample size.\n",
    "\n",
    "\n",
    "**Uses**:\n",
    "1. **Testing Population Mean**: Used when comparing a sample mean to a known population mean.\n",
    "2. **Comparing Two Means**: To test the difference between two sample means when population variance is known.\n",
    "3. **Large Samples**: Effective for large sample sizes, as it relies on the Central Limit Theorem for normal approximation."
   ]
  },
  {
   "cell_type": "markdown",
   "metadata": {},
   "source": [
    "### **Practical**"
   ]
  },
  {
   "cell_type": "markdown",
   "metadata": {},
   "source": [
    "One-sample Z-test(Two tail test)"
   ]
  },
  {
   "cell_type": "markdown",
   "metadata": {},
   "source": [
    "**Problem** <br> Suppose a factory claims that the average weight of a pack of chips is 200 grams. A customer suspects that the actual average weight might be different. To test this, the customer randomly selects 50 packs and finds that their average weight is 198 grams with a standard deviation of 10 grams. <br>\n"
   ]
  },
  {
   "cell_type": "markdown",
   "metadata": {},
   "source": [
    "State the Hypotheses:\n",
    "\n",
    "Null hypothesis (𝐻0): The average weight is 200 grams (𝜇=200). <br>\n",
    "Alternative hypothesis (𝐻1): The average weight is not 200 grams (𝜇≠200)."
   ]
  },
  {
   "cell_type": "code",
   "execution_count": 35,
   "metadata": {},
   "outputs": [
    {
     "name": "stdout",
     "output_type": "stream",
     "text": [
      " Z value is: -1.4142135623730951\n",
      " P value is: 0.157299207050285\n",
      " We fail to reject null hypothesis, P value is greater than significant value(alpha),.So we conclude that there is a significant relationship between weights\n"
     ]
    }
   ],
   "source": [
    "sample_mean = 198\n",
    "population_mean = 200\n",
    "sample_std_dev = 10\n",
    "sample_size = 50\n",
    "alpha = 0.05\n",
    "\n",
    "z_value = (sample_mean - population_mean) / (sample_std_dev / math.sqrt(sample_size))\n",
    "print(f\" Z value is: {z_value}\")\n",
    "p_value = 2 * (1 - stats.norm.cdf(abs(z_value)))\n",
    "print(f\" P value is: {p_value}\")\n",
    "\n",
    "if p_value < alpha:\n",
    "    print(\" We reject null hypothesis and accept alternative hypothesis because p-value is less than significant value(alpha). So we conclude that there is no significant relationship between weights\")\n",
    "else:\n",
    "    print(\" We fail to reject null hypothesis, P value is greater than significant value(alpha),.So we conclude that there is a significant relationship between weights\")"
   ]
  },
  {
   "cell_type": "markdown",
   "metadata": {},
   "source": [
    "Using stats funcion"
   ]
  },
  {
   "cell_type": "code",
   "execution_count": 36,
   "metadata": {},
   "outputs": [
    {
     "data": {
      "text/plain": [
       "(-1.8309127460224979, 0.06711356756485325)"
      ]
     },
     "execution_count": 36,
     "metadata": {},
     "output_type": "execute_result"
    }
   ],
   "source": [
    "random_values = np.random.normal(loc=sample_mean,scale=sample_std_dev, size=50)\n",
    "z_statistic, p_value = ztest(random_values, value=population_mean)\n",
    "z_statistic, p_value"
   ]
  },
  {
   "cell_type": "markdown",
   "metadata": {},
   "source": [
    "Two-sample Z-test"
   ]
  },
  {
   "cell_type": "markdown",
   "metadata": {},
   "source": [
    "**Problem**\n",
    "\n",
    " \n",
    "Suppose you work for a company that manufactures two different types of light bulbs. The company wants to compare the average lifespans of the two light bulbs.\n",
    "<br> You take two independent random samples:\n",
    "\n",
    "Sample 1: 100 bulbs of type A, with an average lifespan of 1500 hours and a standard deviation of 300 hours. <br>\n",
    "Sample 2: 120 bulbs of type B, with an average lifespan of 1450 hours and a standard deviation of 320 hours. <br>\n",
    "You want to test at a 5% significance level (α=0.05) whether there is a significant difference between the lifespans of the two types of bulbs."
   ]
  },
  {
   "cell_type": "markdown",
   "metadata": {},
   "source": [
    "H0: There is no significant difference b/w them(mu1 = mu2) <br>\n",
    "H1: There is significant difference b/w two bulbs(mu1 not equals mu2)<br>\n",
    "It is a two-tail test. so p = 2 * ( 1 - cdf(abs(z_stati)))"
   ]
  },
  {
   "cell_type": "code",
   "execution_count": 37,
   "metadata": {},
   "outputs": [],
   "source": [
    "# sample 1\n",
    "n1 = 100\n",
    "mean1 = 1500\n",
    "std1 = 300\n",
    "# sample 2\n",
    "n2 = 120\n",
    "mean2 = 1450\n",
    "std2 = 320\n",
    "aplha = 0.05"
   ]
  },
  {
   "cell_type": "code",
   "execution_count": 38,
   "metadata": {},
   "outputs": [
    {
     "name": "stdout",
     "output_type": "stream",
     "text": [
      "Z value is: 1.1940919199575821\n",
      "P value is: 0.2324420135643246\n",
      "Fail to reject null hypothesis\n"
     ]
    }
   ],
   "source": [
    "z_value = (mean1 - mean2) / math.sqrt(((std1 ** 2) / n1) + ((std2 ** 2) / n2))\n",
    "print(f\"Z value is: {z_value}\")\n",
    "p_value = 2 * (1 - stats.norm.cdf(abs(z_value)))\n",
    "print(f\"P value is: {p_value}\")\n",
    "if p_value < aplha:\n",
    "    print(\"Reject Null hypothesis\")\n",
    "else:\n",
    "    print(\"Fail to reject null hypothesis\")"
   ]
  },
  {
   "cell_type": "code",
   "execution_count": 39,
   "metadata": {},
   "outputs": [],
   "source": [
    "sample1 = np.random.normal(loc=mean1,scale=std1,size=n1)\n",
    "sample2 = np.random.normal(loc=mean2,scale=std2,size=n2)"
   ]
  },
  {
   "cell_type": "code",
   "execution_count": 40,
   "metadata": {},
   "outputs": [
    {
     "data": {
      "text/plain": [
       "(1.2604319692904795, 0.2075135750405187)"
      ]
     },
     "execution_count": 40,
     "metadata": {},
     "output_type": "execute_result"
    }
   ],
   "source": [
    "z_score_two_sample, p_value_two_sample = ztest(sample1, sample2)\n",
    "z_score_two_sample, p_value_two_sample"
   ]
  },
  {
   "cell_type": "markdown",
   "metadata": {},
   "source": [
    "**Paired test**"
   ]
  },
  {
   "cell_type": "markdown",
   "metadata": {},
   "source": [
    "A paired Z-test is used for comparing the means of two related groups, such as measurements taken on the same subjects before and after an intervention.\n",
    "\n",
    "Define hypotheses: <br>\n",
    "H0: 𝜇𝑑 = 0 (The mean of the differences is zero) <br>\n",
    "H1: ud not equals to 0"
   ]
  },
  {
   "cell_type": "code",
   "execution_count": 41,
   "metadata": {},
   "outputs": [
    {
     "name": "stdout",
     "output_type": "stream",
     "text": [
      "Paired Z-test Z-score: 6.354889093022426\n",
      "Paired Z-test p-value: 2.085771555471183e-10\n"
     ]
    }
   ],
   "source": [
    "before = np.array([20, 18, 19, 22, 20, 23, 21, 22])\n",
    "after = np.array([18, 17, 16, 20, 19, 21, 20, 19])\n",
    "\n",
    "differences = before - after\n",
    "mean_diff = np.mean(differences)\n",
    "std_diff = np.std(differences, ddof=1)\n",
    "n = len(differences)\n",
    "\n",
    "z_score_paired = mean_diff / (std_diff / np.sqrt(n))\n",
    "\n",
    "# Calculate the p-value (two-tailed)\n",
    "p_value_paired = 2 * (1 - stats.norm.cdf(abs(z_score_paired)))\n",
    "\n",
    "print(f\"Paired Z-test Z-score: {z_score_paired}\")\n",
    "print(f\"Paired Z-test p-value: {p_value_paired}\")\n"
   ]
  },
  {
   "cell_type": "markdown",
   "metadata": {},
   "source": [
    "## T-test"
   ]
  },
  {
   "cell_type": "markdown",
   "metadata": {},
   "source": [
    "### Note"
   ]
  },
  {
   "cell_type": "markdown",
   "metadata": {},
   "source": [
    "T-Test: Quick Revision\n",
    "A T-test is a statistical test used to compare the means of one or two groups, helping determine if there is a statistically significant difference between them. It's commonly used when the sample size is small or when the population standard deviation is unknown."
   ]
  },
  {
   "cell_type": "markdown",
   "metadata": {},
   "source": [
    "for one sample test: t = X bar - mu / (s/root(n)) <br>\n",
    "for two sample test: t = X1 bar - X2 bar / root(square(sp2 (1/n1 + 1/n2) )) <br>\n",
    "for paired sample test: t = D bar / (Sd / root(n))"
   ]
  },
  {
   "cell_type": "markdown",
   "metadata": {},
   "source": [
    "**Uses of T-Tests** <br>\n",
    "Hypothesis Testing: Used to test hypotheses about population means.<br>\n",
    "Small Samples: Suitable for small samples (generally \n",
    "𝑛\n",
    "<\n",
    "30.)<br>\n",
    "Unknown Population Variance: Often used when population variance is unknown. <br>\n"
   ]
  },
  {
   "cell_type": "markdown",
   "metadata": {},
   "source": [
    "**Assumptions**<br>\n",
    "Normality: Data should follow a normal distribution (especially important for small samples).<br>\n",
    "Independence: Observations should be independent.<br>\n",
    "Equal Variances (for two-sample t-tests): Known as homogeneity of variance; applies when comparing two groups."
   ]
  },
  {
   "cell_type": "markdown",
   "metadata": {},
   "source": [
    "### Practical"
   ]
  },
  {
   "cell_type": "markdown",
   "metadata": {},
   "source": [
    "**One sample test**"
   ]
  },
  {
   "cell_type": "code",
   "execution_count": 42,
   "metadata": {},
   "outputs": [],
   "source": [
    "sample_data = [5.3, 6.8, 7.2, 5.7, 6.1, 5.9, 6.3]\n",
    "population_mean = 6.0"
   ]
  },
  {
   "cell_type": "markdown",
   "metadata": {},
   "source": [
    "Scratch Implementation"
   ]
  },
  {
   "cell_type": "code",
   "execution_count": 43,
   "metadata": {},
   "outputs": [
    {
     "name": "stdout",
     "output_type": "stream",
     "text": [
      "t-statistic: 0.7568892626614537\n",
      "p-value: 0.477774677079275\n"
     ]
    }
   ],
   "source": [
    "mean = np.mean(sample_data)\n",
    "std = np.std(sample_data,ddof=1)\n",
    "n = len(sample_data)\n",
    "t_value = (mean - population_mean) / (std/math.sqrt(n))\n",
    "df = n -1\n",
    "p_value = 2 * stats.t.sf(abs(t_value), df)\n",
    "print(\"t-statistic:\", t_value)\n",
    "print(\"p-value:\", p_value)"
   ]
  },
  {
   "cell_type": "markdown",
   "metadata": {},
   "source": [
    "Using stats"
   ]
  },
  {
   "cell_type": "code",
   "execution_count": 44,
   "metadata": {},
   "outputs": [
    {
     "name": "stdout",
     "output_type": "stream",
     "text": [
      "One-Sample t-Test\n",
      "t-statistic: 0.7568892626614537\n",
      "p-value: 0.477774677079275\n",
      "Fail to reject the null hypothesis.\n"
     ]
    }
   ],
   "source": [
    "t_stat, p_value = stats.ttest_1samp(sample_data, population_mean)\n",
    "\n",
    "print(\"One-Sample t-Test\")\n",
    "print(\"t-statistic:\", t_stat)\n",
    "print(\"p-value:\", p_value)\n",
    "\n",
    "alpha = 0.05\n",
    "if p_value < alpha:\n",
    "    print(\"Reject the null hypothesis.\")\n",
    "else:\n",
    "    print(\"Fail to reject the null hypothesis.\")"
   ]
  },
  {
   "cell_type": "markdown",
   "metadata": {},
   "source": [
    "**Two sample**"
   ]
  },
  {
   "cell_type": "code",
   "execution_count": 45,
   "metadata": {},
   "outputs": [],
   "source": [
    "sample_group1 = np.array([5.1, 6.2, 7.4, 6.9, 5.8])\n",
    "sample_group2 = np.array([5.9, 6.3, 6.8, 6.2, 6.5])"
   ]
  },
  {
   "cell_type": "markdown",
   "metadata": {},
   "source": [
    "Scratch Implementation"
   ]
  },
  {
   "cell_type": "code",
   "execution_count": 46,
   "metadata": {},
   "outputs": [],
   "source": [
    "# (n1 - 1) * s1**2 + (n2 - 1) * s2**2 / (n1 + n2 - 2)."
   ]
  },
  {
   "cell_type": "code",
   "execution_count": 47,
   "metadata": {},
   "outputs": [
    {
     "data": {
      "text/plain": [
       "-0.3279986515638687"
      ]
     },
     "execution_count": 47,
     "metadata": {},
     "output_type": "execute_result"
    }
   ],
   "source": [
    "# for two sample test: t = X1 bar - X2 bar / root(square(sp2 (1/n1 + 1/n2) )) <br>\n",
    "x1_mean = np.mean(sample_group1)\n",
    "x2_mean = np.mean(sample_group2)\n",
    "s1 = np.std(sample_group1,ddof=1)\n",
    "s2 = np.std(sample_group2,ddof=1)\n",
    "n1 = len(sample_group1)\n",
    "n2 = len(sample_group2)\n",
    "sp = np.sqrt(((n - 1) * s1**2 + (n2 - 1)* s2**2)) / (n1 + n2 - 2)\n",
    "t_value = (x1_mean - x2_mean) / (sp * np.sqrt(1/n1 + 1/n2))\n",
    "t_value"
   ]
  },
  {
   "cell_type": "markdown",
   "metadata": {},
   "source": [
    "Using stats"
   ]
  },
  {
   "cell_type": "code",
   "execution_count": 48,
   "metadata": {},
   "outputs": [
    {
     "name": "stdout",
     "output_type": "stream",
     "text": [
      "\n",
      "Two-Sample t-Test\n",
      "t-statistic: -0.13912166872804954\n",
      "p-value: 0.892792491799274\n",
      "Fail to reject the null hypothesis.\n"
     ]
    }
   ],
   "source": [
    "t_stat, p_value = stats.ttest_ind(sample_group1, sample_group2)\n",
    "\n",
    "print(\"\\nTwo-Sample t-Test\")\n",
    "print(\"t-statistic:\", t_stat)\n",
    "print(\"p-value:\", p_value)\n",
    "\n",
    "# Decision\n",
    "if p_value < alpha:\n",
    "    print(\"Reject the null hypothesis.\")\n",
    "else:\n",
    "    print(\"Fail to reject the null hypothesis.\")\n"
   ]
  },
  {
   "cell_type": "markdown",
   "metadata": {},
   "source": [
    "**Paired t-test**"
   ]
  },
  {
   "cell_type": "code",
   "execution_count": 49,
   "metadata": {},
   "outputs": [],
   "source": [
    "before_treatment = np.array([5.7, 6.2, 5.8, 6.1, 6.0])\n",
    "after_treatment = np.array([6.1, 6.4, 6.0, 6.2, 6.3])"
   ]
  },
  {
   "cell_type": "code",
   "execution_count": 50,
   "metadata": {},
   "outputs": [
    {
     "name": "stdout",
     "output_type": "stream",
     "text": [
      "Test Statistics: -4.706787243316435\n",
      "P Value is: 0.0092616967595143\n"
     ]
    }
   ],
   "source": [
    "n = len(after_treatment)\n",
    "d = before_treatment - after_treatment\n",
    "d_bar = np.mean(d)\n",
    "d_std = np.std(d,ddof=1)\n",
    "t_value = d_bar / (d_std / math.sqrt(n))\n",
    "df = n- 1\n",
    "p_value = 2 * stats.t.sf(abs(t_value), df)\n",
    "print(f\"Test Statistics: {t_value}\")\n",
    "print(f\"P Value is: {p_value}\")"
   ]
  },
  {
   "cell_type": "code",
   "execution_count": 51,
   "metadata": {},
   "outputs": [
    {
     "name": "stdout",
     "output_type": "stream",
     "text": [
      "\n",
      "Paired t-Test\n",
      "t-statistic: -4.706787243316435\n",
      "p-value: 0.0092616967595143\n",
      "Reject the null hypothesis.\n"
     ]
    }
   ],
   "source": [
    "t_stat, p_value = stats.ttest_rel(before_treatment, after_treatment)\n",
    "\n",
    "print(\"\\nPaired t-Test\")\n",
    "print(\"t-statistic:\", t_stat)\n",
    "print(\"p-value:\", p_value)\n",
    "\n",
    "if p_value < alpha:\n",
    "    print(\"Reject the null hypothesis.\")\n",
    "else:\n",
    "    print(\"Fail to reject the null hypothesis.\")"
   ]
  },
  {
   "cell_type": "markdown",
   "metadata": {},
   "source": [
    "## Chi Square-test"
   ]
  },
  {
   "cell_type": "markdown",
   "metadata": {},
   "source": [
    "### Note"
   ]
  },
  {
   "cell_type": "markdown",
   "metadata": {},
   "source": [
    "Definition:\n",
    "The chi-square test is a statistical method used to assess whether there is a significant association between categorical variables. It compares observed frequencies with expected frequencies if there was no relationship.\n",
    "\n",
    "Types of Chi-Square Tests:\n",
    "\n",
    "Test of Independence: Determines if two categorical variables (e.g., gender and movie preference) are independent.\n",
    "Goodness of Fit Test: Tests if observed data matches an expected distribution.\n",
    "Formula:\n",
    "\n",
    "    𝜒2 = ∑(𝑂 −𝐸)**2/𝐸\n",
    "\n",
    "<br>\n",
    "O: Observed frequency <br>\n",
    "𝐸: Expected frequency\n",
    "\n",
    "<br>\n",
    "\n",
    "Use Case: In a survey of voters by region, the chi-square test of independence can reveal if voting preferences are associated with specific regions."
   ]
  },
  {
   "cell_type": "markdown",
   "metadata": {},
   "source": [
    "### Practical"
   ]
  },
  {
   "cell_type": "markdown",
   "metadata": {},
   "source": [
    "**Chi-Square Test of Independence**"
   ]
  },
  {
   "cell_type": "markdown",
   "metadata": {},
   "source": [
    "Create data"
   ]
  },
  {
   "cell_type": "code",
   "execution_count": 52,
   "metadata": {},
   "outputs": [
    {
     "data": {
      "text/html": [
       "<div>\n",
       "<style scoped>\n",
       "    .dataframe tbody tr th:only-of-type {\n",
       "        vertical-align: middle;\n",
       "    }\n",
       "\n",
       "    .dataframe tbody tr th {\n",
       "        vertical-align: top;\n",
       "    }\n",
       "\n",
       "    .dataframe thead th {\n",
       "        text-align: right;\n",
       "    }\n",
       "</style>\n",
       "<table border=\"1\" class=\"dataframe\">\n",
       "  <thead>\n",
       "    <tr style=\"text-align: right;\">\n",
       "      <th></th>\n",
       "      <th>Product A</th>\n",
       "      <th>Product B</th>\n",
       "    </tr>\n",
       "  </thead>\n",
       "  <tbody>\n",
       "    <tr>\n",
       "      <th>Male</th>\n",
       "      <td>30</td>\n",
       "      <td>15</td>\n",
       "    </tr>\n",
       "    <tr>\n",
       "      <th>Female</th>\n",
       "      <td>15</td>\n",
       "      <td>25</td>\n",
       "    </tr>\n",
       "  </tbody>\n",
       "</table>\n",
       "</div>"
      ],
      "text/plain": [
       "        Product A  Product B\n",
       "Male           30         15\n",
       "Female         15         25"
      ]
     },
     "execution_count": 52,
     "metadata": {},
     "output_type": "execute_result"
    }
   ],
   "source": [
    "# Sample data (contingency table)\n",
    "# Rows represent genders, columns represent product preference (Product A, Product B)\n",
    "# data = np.array([[30, 10],[29, 15]])\n",
    "data = np.array([[30, 15],[15, 25]])\n",
    "df_observed = pd.DataFrame(data, index=[\"Male\", \"Female\"], columns=[\"Product A\", \"Product B\"])\n",
    "df_observed"
   ]
  },
  {
   "cell_type": "markdown",
   "metadata": {},
   "source": [
    "**From Scratch Implementation**"
   ]
  },
  {
   "cell_type": "markdown",
   "metadata": {},
   "source": [
    "Degree of freedom"
   ]
  },
  {
   "cell_type": "code",
   "execution_count": 53,
   "metadata": {},
   "outputs": [
    {
     "data": {
      "text/plain": [
       "1"
      ]
     },
     "execution_count": 53,
     "metadata": {},
     "output_type": "execute_result"
    }
   ],
   "source": [
    "# df = (number of rows - 1) * (number of columns - 1)\n",
    "df = (df_observed.shape[0]- 1) * (df_observed.shape[1] - 1)\n",
    "df"
   ]
  },
  {
   "cell_type": "code",
   "execution_count": 54,
   "metadata": {},
   "outputs": [],
   "source": [
    "df_observed_1 = df_observed.copy()"
   ]
  },
  {
   "cell_type": "code",
   "execution_count": 55,
   "metadata": {},
   "outputs": [],
   "source": [
    "df_observed_1['Row_Sum'] = df_observed.sum(axis=1)\n",
    "df_observed_1.loc['Col_Sum'] = df_observed.sum(axis=0)"
   ]
  },
  {
   "cell_type": "code",
   "execution_count": 56,
   "metadata": {},
   "outputs": [
    {
     "data": {
      "text/html": [
       "<div>\n",
       "<style scoped>\n",
       "    .dataframe tbody tr th:only-of-type {\n",
       "        vertical-align: middle;\n",
       "    }\n",
       "\n",
       "    .dataframe tbody tr th {\n",
       "        vertical-align: top;\n",
       "    }\n",
       "\n",
       "    .dataframe thead th {\n",
       "        text-align: right;\n",
       "    }\n",
       "</style>\n",
       "<table border=\"1\" class=\"dataframe\">\n",
       "  <thead>\n",
       "    <tr style=\"text-align: right;\">\n",
       "      <th></th>\n",
       "      <th>Product A</th>\n",
       "      <th>Product B</th>\n",
       "      <th>Row_Sum</th>\n",
       "    </tr>\n",
       "  </thead>\n",
       "  <tbody>\n",
       "    <tr>\n",
       "      <th>Male</th>\n",
       "      <td>30.0</td>\n",
       "      <td>15.0</td>\n",
       "      <td>45.0</td>\n",
       "    </tr>\n",
       "    <tr>\n",
       "      <th>Female</th>\n",
       "      <td>15.0</td>\n",
       "      <td>25.0</td>\n",
       "      <td>40.0</td>\n",
       "    </tr>\n",
       "    <tr>\n",
       "      <th>Col_Sum</th>\n",
       "      <td>45.0</td>\n",
       "      <td>40.0</td>\n",
       "      <td>NaN</td>\n",
       "    </tr>\n",
       "  </tbody>\n",
       "</table>\n",
       "</div>"
      ],
      "text/plain": [
       "         Product A  Product B  Row_Sum\n",
       "Male          30.0       15.0     45.0\n",
       "Female        15.0       25.0     40.0\n",
       "Col_Sum       45.0       40.0      NaN"
      ]
     },
     "execution_count": 56,
     "metadata": {},
     "output_type": "execute_result"
    }
   ],
   "source": [
    "df_observed_1"
   ]
  },
  {
   "cell_type": "code",
   "execution_count": 57,
   "metadata": {},
   "outputs": [],
   "source": [
    "expected_df= pd.DataFrame()"
   ]
  },
  {
   "cell_type": "code",
   "execution_count": 58,
   "metadata": {},
   "outputs": [],
   "source": [
    "row_totals = df_observed.sum(axis=1)\n",
    "column_totals = df_observed.sum(axis=0)\n",
    "grand_total = df_observed.values.sum()"
   ]
  },
  {
   "cell_type": "code",
   "execution_count": 59,
   "metadata": {},
   "outputs": [],
   "source": [
    "for row in df_observed.index:\n",
    "    for col in df_observed.columns:\n",
    "        expected_df.loc[row, col] = (row_totals[row] * column_totals[col]) / grand_total"
   ]
  },
  {
   "cell_type": "code",
   "execution_count": 60,
   "metadata": {},
   "outputs": [
    {
     "data": {
      "text/html": [
       "<div>\n",
       "<style scoped>\n",
       "    .dataframe tbody tr th:only-of-type {\n",
       "        vertical-align: middle;\n",
       "    }\n",
       "\n",
       "    .dataframe tbody tr th {\n",
       "        vertical-align: top;\n",
       "    }\n",
       "\n",
       "    .dataframe thead th {\n",
       "        text-align: right;\n",
       "    }\n",
       "</style>\n",
       "<table border=\"1\" class=\"dataframe\">\n",
       "  <thead>\n",
       "    <tr style=\"text-align: right;\">\n",
       "      <th></th>\n",
       "      <th>Product A</th>\n",
       "      <th>Product B</th>\n",
       "    </tr>\n",
       "  </thead>\n",
       "  <tbody>\n",
       "    <tr>\n",
       "      <th>Male</th>\n",
       "      <td>23.823529</td>\n",
       "      <td>21.176471</td>\n",
       "    </tr>\n",
       "    <tr>\n",
       "      <th>Female</th>\n",
       "      <td>21.176471</td>\n",
       "      <td>18.823529</td>\n",
       "    </tr>\n",
       "  </tbody>\n",
       "</table>\n",
       "</div>"
      ],
      "text/plain": [
       "        Product A  Product B\n",
       "Male    23.823529  21.176471\n",
       "Female  21.176471  18.823529"
      ]
     },
     "execution_count": 60,
     "metadata": {},
     "output_type": "execute_result"
    }
   ],
   "source": [
    "expected_df"
   ]
  },
  {
   "cell_type": "code",
   "execution_count": 61,
   "metadata": {},
   "outputs": [
    {
     "data": {
      "text/plain": [
       "7.230902777777776"
      ]
     },
     "execution_count": 61,
     "metadata": {},
     "output_type": "execute_result"
    }
   ],
   "source": [
    "chi_square_stat = ((df_observed - expected_df) ** 2 / expected_df).sum().sum()\n",
    "chi_square_stat"
   ]
  },
  {
   "cell_type": "code",
   "execution_count": 62,
   "metadata": {},
   "outputs": [
    {
     "data": {
      "text/plain": [
       "0.0071659163049716534"
      ]
     },
     "execution_count": 62,
     "metadata": {},
     "output_type": "execute_result"
    }
   ],
   "source": [
    "p_value = 1 - stats.chi2.cdf(chi_square_stat, df)\n",
    "p_value"
   ]
  },
  {
   "cell_type": "markdown",
   "metadata": {},
   "source": [
    "Conclusion"
   ]
  },
  {
   "cell_type": "code",
   "execution_count": 63,
   "metadata": {},
   "outputs": [
    {
     "name": "stdout",
     "output_type": "stream",
     "text": [
      "Reject the null hypothesis: There is an association between gender and product preference.\n"
     ]
    }
   ],
   "source": [
    "if p_value < 0.05:\n",
    "    print(\"Reject the null hypothesis: There is an association between gender and product preference.\")\n",
    "else:\n",
    "    print(\"Fail to reject the null hypothesis: No association between gender and product preference.\")"
   ]
  },
  {
   "cell_type": "markdown",
   "metadata": {},
   "source": [
    "**chi-square test using stats**"
   ]
  },
  {
   "cell_type": "code",
   "execution_count": 64,
   "metadata": {},
   "outputs": [
    {
     "name": "stdout",
     "output_type": "stream",
     "text": [
      "Chi-Square Statistic: 6.107571373456789\n",
      "p-value: 0.01346039651302516\n",
      "Degrees of Freedom: 1\n",
      "Expected Frequencies:\n",
      "[[23.82352941 21.17647059]\n",
      " [21.17647059 18.82352941]]\n"
     ]
    }
   ],
   "source": [
    "# Perform Chi-Square Test of Independence\n",
    "chi2, p, dof, expected = stats.chi2_contingency(data)\n",
    "\n",
    "print(f\"Chi-Square Statistic: {chi2}\")\n",
    "print(f\"p-value: {p}\")\n",
    "print(f\"Degrees of Freedom: {dof}\")\n",
    "print(\"Expected Frequencies:\")\n",
    "print(expected)"
   ]
  },
  {
   "cell_type": "markdown",
   "metadata": {},
   "source": [
    "Conclusion"
   ]
  },
  {
   "cell_type": "code",
   "execution_count": 65,
   "metadata": {},
   "outputs": [
    {
     "name": "stdout",
     "output_type": "stream",
     "text": [
      "Reject the null hypothesis: There is an association between gender and product preference.\n"
     ]
    }
   ],
   "source": [
    "if p < 0.05:\n",
    "    print(\"Reject the null hypothesis: There is an association between gender and product preference.\")\n",
    "else:\n",
    "    print(\"Fail to reject the null hypothesis: No association between gender and product preference.\")\n",
    "# Create a DataFrame for the observed counts"
   ]
  },
  {
   "cell_type": "markdown",
   "metadata": {},
   "source": [
    "Expected data"
   ]
  },
  {
   "cell_type": "code",
   "execution_count": 66,
   "metadata": {},
   "outputs": [
    {
     "data": {
      "text/html": [
       "<div>\n",
       "<style scoped>\n",
       "    .dataframe tbody tr th:only-of-type {\n",
       "        vertical-align: middle;\n",
       "    }\n",
       "\n",
       "    .dataframe tbody tr th {\n",
       "        vertical-align: top;\n",
       "    }\n",
       "\n",
       "    .dataframe thead th {\n",
       "        text-align: right;\n",
       "    }\n",
       "</style>\n",
       "<table border=\"1\" class=\"dataframe\">\n",
       "  <thead>\n",
       "    <tr style=\"text-align: right;\">\n",
       "      <th></th>\n",
       "      <th>Product A</th>\n",
       "      <th>Product B</th>\n",
       "    </tr>\n",
       "  </thead>\n",
       "  <tbody>\n",
       "    <tr>\n",
       "      <th>Male</th>\n",
       "      <td>23.823529</td>\n",
       "      <td>21.176471</td>\n",
       "    </tr>\n",
       "    <tr>\n",
       "      <th>Female</th>\n",
       "      <td>21.176471</td>\n",
       "      <td>18.823529</td>\n",
       "    </tr>\n",
       "  </tbody>\n",
       "</table>\n",
       "</div>"
      ],
      "text/plain": [
       "        Product A  Product B\n",
       "Male    23.823529  21.176471\n",
       "Female  21.176471  18.823529"
      ]
     },
     "execution_count": 66,
     "metadata": {},
     "output_type": "execute_result"
    }
   ],
   "source": [
    "# Create a DataFrame for the expected frequencies\n",
    "df_expected = pd.DataFrame(expected, index=[\"Male\", \"Female\"], columns=[\"Product A\", \"Product B\"])\n",
    "df_expected"
   ]
  },
  {
   "cell_type": "markdown",
   "metadata": {},
   "source": [
    "**Chi-Square Goodness of Fit Test**"
   ]
  },
  {
   "cell_type": "markdown",
   "metadata": {},
   "source": [
    "Data Creation"
   ]
  },
  {
   "cell_type": "markdown",
   "metadata": {},
   "source": [
    "Problem: Check a die is fair or not"
   ]
  },
  {
   "cell_type": "code",
   "execution_count": 67,
   "metadata": {},
   "outputs": [],
   "source": [
    "observed = np.array([11, 1, 17, 9, 10, 12])\n",
    "\n",
    "expected = np.array([10, 10, 10, 10, 10, 10])"
   ]
  },
  {
   "cell_type": "markdown",
   "metadata": {},
   "source": [
    "Scratch implementation"
   ]
  },
  {
   "cell_type": "code",
   "execution_count": 68,
   "metadata": {},
   "outputs": [],
   "source": [
    "df = len(observed) - 1"
   ]
  },
  {
   "cell_type": "code",
   "execution_count": 69,
   "metadata": {},
   "outputs": [
    {
     "name": "stdout",
     "output_type": "stream",
     "text": [
      "P value is 0.01836019640951947\n",
      "Chi Square: 13.6\n"
     ]
    }
   ],
   "source": [
    "chi_value = (((observed - expected) ** 2) / expected).sum()\n",
    "p_value = 1 - stats.chi2.cdf(chi_value,df)\n",
    "print(f\"P value is {p_value}\")\n",
    "print(f\"Chi Square: {chi_value}\")"
   ]
  },
  {
   "cell_type": "code",
   "execution_count": 70,
   "metadata": {},
   "outputs": [
    {
     "name": "stdout",
     "output_type": "stream",
     "text": [
      "Reject the null hypothesis: The die is not fair.\n"
     ]
    }
   ],
   "source": [
    "if p < 0.05:\n",
    "    print(\"Reject the null hypothesis: The die is not fair.\")\n",
    "else:\n",
    "    print(\"Fail to reject the null hypothesis: The die could be fair.\")"
   ]
  },
  {
   "cell_type": "markdown",
   "metadata": {},
   "source": [
    "Chi Square test using stats"
   ]
  },
  {
   "cell_type": "code",
   "execution_count": 71,
   "metadata": {},
   "outputs": [
    {
     "name": "stdout",
     "output_type": "stream",
     "text": [
      "Chi-Square Statistic: 13.6\n",
      "p-value: 0.01836019640951945\n",
      "Reject the null hypothesis: The die is not fair.\n"
     ]
    }
   ],
   "source": [
    "chi2, p = stats.chisquare(observed, f_exp=expected)\n",
    "\n",
    "print(f\"Chi-Square Statistic: {chi2}\")\n",
    "print(f\"p-value: {p}\")\n",
    "\n",
    "if p < 0.05:\n",
    "    print(\"Reject the null hypothesis: The die is not fair.\")\n",
    "else:\n",
    "    print(\"Fail to reject the null hypothesis: The die could be fair.\")"
   ]
  },
  {
   "cell_type": "markdown",
   "metadata": {},
   "source": [
    "## ANNOVA"
   ]
  },
  {
   "cell_type": "markdown",
   "metadata": {},
   "source": [
    "### Note"
   ]
  },
  {
   "cell_type": "markdown",
   "metadata": {},
   "source": [
    "Definition: ANOVA (Analysis of Variance) is a statistical technique used to compare the means of three or more groups to determine if there is a statistically significant difference between them. It tests the hypothesis that the means of different groups are equal, based on the variance within each group and between the groups.\n",
    "\n",
    "Formula: The basic formula for the F-statistic in ANOVA is:\n",
    "\n",
    "F=  Variance within groups (MSW) / Variance between groups (MSB)\n",
    "​<br>\n",
    "Where: <br>\n",
    "MSB (Mean Square Between) = SSB / DFB\n",
    "<br>\n",
    "MSW (Mean Square Within) = SSW / dfW\n",
    " \n",
    "Where:\n",
    "\n",
    "SSB (Sum of Squares Between): Measures the variation due to the difference in group means.\n",
    "SSW (Sum of Squares Within): Measures the variation within each group.\n",
    "dfB: Degrees of freedom between groups.\n",
    "dfW: Degrees of freedom within groups.\n",
    "Steps:\n",
    "\n",
    "Calculate the mean of each group.<br>\n",
    "Compute the sum of squares (SSB and SSW).<br>\n",
    "Compute the mean squares (MSB and MSW).<br>\n",
    "Calculate the F-statistic.<br>\n",
    "Compare the F-statistic with the critical value from the F-distribution table (based on the chosen significance level).<br>\n",
    "\n",
    "Use Case:<br>\n",
    "*Example*: Testing if different teaching methods affect student performance.\n",
    "Groups: Students taught using different methods (e.g., traditional, online, hybrid).\n",
    "Objective: Compare the mean scores of students in different teaching methods.\n",
    "If the p-value corresponding to the F-statistic is less than the significance level (e.g., 0.05), the null hypothesis is rejected, indicating that at least one group mean is significantly different from the others.<br>\n",
    "\n",
    "*Key Points:* <br>\n",
    "ANOVA is used for multiple group comparisons.\n",
    "<br>\n",
    "It assumes that the groups are independent, have normal distributions, and the variances are equal (homogeneity of variances).\n",
    "<br>\n",
    "If ANOVA shows significant differences, post-hoc tests (like Tukey’s HSD) can be performed to identify which groups differ."
   ]
  },
  {
   "cell_type": "markdown",
   "metadata": {},
   "source": [
    "### Practical"
   ]
  },
  {
   "cell_type": "markdown",
   "metadata": {},
   "source": [
    "**One-Way ANNOVA**"
   ]
  },
  {
   "cell_type": "markdown",
   "metadata": {},
   "source": [
    "Example Problem: Suppose we have data on student scores from three different teaching methods and want to check if the mean scores differ among the groups."
   ]
  },
  {
   "cell_type": "code",
   "execution_count": null,
   "metadata": {},
   "outputs": [
    {
     "name": "stdout",
     "output_type": "stream",
     "text": [
      "F-statistic: 3.251721004064245\n",
      "P-value: 0.04345972421308328\n",
      "Reject the null hypothesis: There is a significant difference between the group means.\n"
     ]
    }
   ],
   "source": [
    "np.random.seed(42)\n",
    "group1 = np.random.normal(75, 10, 30)\n",
    "group2 = np.random.normal(80, 10, 30)\n",
    "group3 = np.random.normal(78, 10, 30)\n",
    "\n",
    "f_stat, p_value = stats.f_oneway(group1, group2, group3)\n",
    "\n",
    "print(\"F-statistic:\", f_stat)\n",
    "print(\"P-value:\", p_value)\n",
    "\n",
    "alpha = 0.05\n",
    "if p_value < alpha:\n",
    "    print(\"Reject the null hypothesis: There is a significant difference between the group means.\")\n",
    "else:\n",
    "    print(\"Fail to reject the null hypothesis: No significant difference between the group means.\")"
   ]
  },
  {
   "cell_type": "markdown",
   "metadata": {},
   "source": [
    "**Two-way test**"
   ]
  },
  {
   "cell_type": "markdown",
   "metadata": {},
   "source": [
    "Imagine we have a dataset representing the effects of two different factors on test scores:\n",
    "\n",
    "Factor 1: Teaching Method (Method A and Method B)<br>\n",
    "Factor 2: Study Environment (Quiet and Noisy)<br>\n",
    "We want to determine:\n",
    "\n",
    "Whether there is a significant difference in test scores based on the teaching method.<br>\n",
    "Whether there is a significant difference based on the study environment.<br>\n",
    "Whether there is an interaction effect between the teaching method and the study environment."
   ]
  },
  {
   "cell_type": "code",
   "execution_count": null,
   "metadata": {},
   "outputs": [
    {
     "name": "stdout",
     "output_type": "stream",
     "text": [
      "       Score Method Environment\n",
      "0  87.483571      A       Quiet\n",
      "1  84.308678      A       Quiet\n",
      "2  88.238443      A       Quiet\n",
      "3  92.615149      A       Quiet\n",
      "4  83.829233      A       Quiet\n"
     ]
    },
    {
     "data": {
      "text/plain": [
       "(60, 3)"
      ]
     },
     "execution_count": 77,
     "metadata": {},
     "output_type": "execute_result"
    }
   ],
   "source": [
    "np.random.seed(42)\n",
    "n = 15\n",
    "\n",
    "method_a_quiet = np.random.normal(85, 5, n)\n",
    "method_a_noisy = np.random.normal(80, 5, n)\n",
    "method_b_quiet = np.random.normal(78, 5, n)\n",
    "method_b_noisy = np.random.normal(70, 5, n)\n",
    "\n",
    "data = pd.DataFrame({\n",
    "    'Score': np.concatenate([method_a_quiet, method_a_noisy, method_b_quiet, method_b_noisy]),\n",
    "    'Method': ['A'] * (2 * n) + ['B'] * (2 * n),\n",
    "    'Environment': ['Quiet'] * n + ['Noisy'] * n + ['Quiet'] * n + ['Noisy'] * n\n",
    "})\n",
    "\n",
    "print(data.head())"
   ]
  },
  {
   "cell_type": "code",
   "execution_count": null,
   "metadata": {},
   "outputs": [
    {
     "name": "stdout",
     "output_type": "stream",
     "text": [
      "                               sum_sq    df          F        PR(>F)\n",
      "C(Method)                 1000.027450   1.0  47.902002  4.671675e-09\n",
      "C(Environment)             680.629864   1.0  32.602638  4.484464e-07\n",
      "C(Method):C(Environment)     0.928770   1.0   0.044489  8.337126e-01\n",
      "Residual                  1169.085516  56.0        NaN           NaN\n"
     ]
    }
   ],
   "source": [
    "model = ols('Score ~ C(Method) + C(Environment) + C(Method):C(Environment)', data=data).fit()\n",
    "anova_table = sm.stats.anova_lm(model, typ=2)\n",
    "\n",
    "print(anova_table)\n"
   ]
  },
  {
   "cell_type": "code",
   "execution_count": null,
   "metadata": {},
   "outputs": [
    {
     "name": "stdout",
     "output_type": "stream",
     "text": [
      "\n",
      "Conclusions:\n",
      "- The teaching method has a significant effect on the scores (p-value = 0.0000).\n",
      "- The study environment has a significant effect on the scores (p-value = 0.0000).\n",
      "- There is no significant interaction effect between the teaching method and the environment (p-value = 0.8337).\n"
     ]
    }
   ],
   "source": [
    "def print_conclusions(anova_table, data, alpha=0.05):\n",
    "    print(\"\\nConclusions:\")\n",
    "    \n",
    "    if anova_table.loc['C(Method)', 'PR(>F)'] < alpha:\n",
    "        print(f\"- The teaching method has a significant effect on the scores (p-value = {anova_table.loc['C(Method)', 'PR(>F)']:.4f}).\")\n",
    "\n",
    "    else:\n",
    "        print(f\"- The teaching method does not have a significant effect on the scores (p-value = {anova_table.loc['C(Method)', 'PR(>F)']:.4f}).\")\n",
    "        \n",
    "    if anova_table.loc['C(Environment)', 'PR(>F)'] < alpha:\n",
    "        print(f\"- The study environment has a significant effect on the scores (p-value = {anova_table.loc['C(Environment)', 'PR(>F)']:.4f}).\")\n",
    "    else:\n",
    "        print(f\"- The study environment does not have a significant effect on the scores (p-value = {anova_table.loc['C(Environment)', 'PR(>F)']:.4f}).\")\n",
    "    \n",
    "    if anova_table.loc['C(Method):C(Environment)', 'PR(>F)'] < alpha:\n",
    "        print(f\"- There is a significant interaction effect between the teaching method and the environment (p-value = {anova_table.loc['C(Method):C(Environment)', 'PR(>F)']:.4f}).\")\n",
    "        print(\"  This suggests that the effect of one factor depends on the level of the other.\")\n",
    "    else:\n",
    "        print(f\"- There is no significant interaction effect between the teaching method and the environment (p-value = {anova_table.loc['C(Method):C(Environment)', 'PR(>F)']:.4f}).\")\n",
    "\n",
    "print_conclusions(anova_table, data)\n"
   ]
  }
 ],
 "metadata": {
  "kernelspec": {
   "display_name": "Python 3",
   "language": "python",
   "name": "python3"
  },
  "language_info": {
   "codemirror_mode": {
    "name": "ipython",
    "version": 3
   },
   "file_extension": ".py",
   "mimetype": "text/x-python",
   "name": "python",
   "nbconvert_exporter": "python",
   "pygments_lexer": "ipython3",
   "version": "3.11.3"
  }
 },
 "nbformat": 4,
 "nbformat_minor": 2
}
