{
 "cells": [
  {
   "cell_type": "markdown",
   "metadata": {},
   "source": [
    "# Hypothesis Testing"
   ]
  },
  {
   "cell_type": "code",
   "execution_count": 6,
   "metadata": {},
   "outputs": [],
   "source": [
    "from scipy import stats\n",
    "from statsmodels.stats.weightstats import ztest\n",
    "import math\n",
    "import numpy as np"
   ]
  },
  {
   "cell_type": "markdown",
   "metadata": {},
   "source": [
    "## Z-test"
   ]
  },
  {
   "cell_type": "markdown",
   "metadata": {},
   "source": [
    "### **Note**\n"
   ]
  },
  {
   "cell_type": "markdown",
   "metadata": {},
   "source": [
    "**Z-Test Quick Revision Note**\n",
    "\n",
    "**Definition**:  \n",
    "\n",
    "A Z-test is a statistical method used to determine if there is a significant difference between the means of two groups, particularly when the sample size is large (typically \\( n > 30 \\)) and the population variance is known. It helps assess hypotheses about population parameters when data follows a normal distribution.\n",
    "\n",
    "**Equation**:\n",
    "\n",
    "For a Z-test, the equation is:\n",
    "\n",
    "Z = (X bar - mu) / (sigma / root(n))\n",
    "\n",
    "where:\n",
    "-  X bar = sample mean,\n",
    "-  mu = population mean,\n",
    "-  sigma  = population standard deviation,\n",
    "-  n  = sample size.\n",
    "\n",
    "\n",
    "**Uses**:\n",
    "1. **Testing Population Mean**: Used when comparing a sample mean to a known population mean.\n",
    "2. **Comparing Two Means**: To test the difference between two sample means when population variance is known.\n",
    "3. **Large Samples**: Effective for large sample sizes, as it relies on the Central Limit Theorem for normal approximation."
   ]
  },
  {
   "cell_type": "markdown",
   "metadata": {},
   "source": [
    "### **Practical**"
   ]
  },
  {
   "cell_type": "markdown",
   "metadata": {},
   "source": [
    "One-sample Z-test(Two tail test)"
   ]
  },
  {
   "cell_type": "markdown",
   "metadata": {},
   "source": [
    "**Problem** <br> Suppose a factory claims that the average weight of a pack of chips is 200 grams. A customer suspects that the actual average weight might be different. To test this, the customer randomly selects 50 packs and finds that their average weight is 198 grams with a standard deviation of 10 grams. <br>\n"
   ]
  },
  {
   "cell_type": "markdown",
   "metadata": {},
   "source": [
    "State the Hypotheses:\n",
    "\n",
    "Null hypothesis (𝐻0): The average weight is 200 grams (𝜇=200). <br>\n",
    "Alternative hypothesis (𝐻1): The average weight is not 200 grams (𝜇≠200)."
   ]
  },
  {
   "cell_type": "code",
   "execution_count": 7,
   "metadata": {},
   "outputs": [
    {
     "name": "stdout",
     "output_type": "stream",
     "text": [
      " Z value is: -1.4142135623730951\n",
      " P value is: 0.157299207050285\n",
      " We fail to reject null hypothesis, P value is greater than significant value(alpha),.So we conclude that there is a significant relationship between weights\n"
     ]
    }
   ],
   "source": [
    "sample_mean = 198\n",
    "population_mean = 200\n",
    "sample_std_dev = 10\n",
    "sample_size = 50\n",
    "alpha = 0.05\n",
    "\n",
    "z_value = (sample_mean - population_mean) / (sample_std_dev / math.sqrt(sample_size))\n",
    "print(f\" Z value is: {z_value}\")\n",
    "p_value = 2 * (1 - stats.norm.cdf(abs(z_value)))\n",
    "print(f\" P value is: {p_value}\")\n",
    "\n",
    "if p_value < alpha:\n",
    "    print(\" We reject null hypothesis and accept alternative hypothesis because p-value is less than significant value(alpha). So we conclude that there is no significant relationship between weights\")\n",
    "else:\n",
    "    print(\" We fail to reject null hypothesis, P value is greater than significant value(alpha),.So we conclude that there is a significant relationship between weights\")"
   ]
  },
  {
   "cell_type": "markdown",
   "metadata": {},
   "source": [
    "Using stats funcion"
   ]
  },
  {
   "cell_type": "code",
   "execution_count": 8,
   "metadata": {},
   "outputs": [
    {
     "data": {
      "text/plain": [
       "(-4.985549487781714, 6.178596159878033e-07)"
      ]
     },
     "execution_count": 8,
     "metadata": {},
     "output_type": "execute_result"
    }
   ],
   "source": [
    "random_values = np.random.normal(loc=sample_mean,scale=sample_std_dev, size=50)\n",
    "z_statistic, p_value = ztest(random_values, value=population_mean)\n",
    "z_statistic, p_value"
   ]
  },
  {
   "cell_type": "markdown",
   "metadata": {},
   "source": [
    "Two-sample Z-test"
   ]
  },
  {
   "cell_type": "markdown",
   "metadata": {},
   "source": [
    "**Problem**\n",
    "\n",
    " \n",
    "Suppose you work for a company that manufactures two different types of light bulbs. The company wants to compare the average lifespans of the two light bulbs.\n",
    "<br> You take two independent random samples:\n",
    "\n",
    "Sample 1: 100 bulbs of type A, with an average lifespan of 1500 hours and a standard deviation of 300 hours. <br>\n",
    "Sample 2: 120 bulbs of type B, with an average lifespan of 1450 hours and a standard deviation of 320 hours. <br>\n",
    "You want to test at a 5% significance level (α=0.05) whether there is a significant difference between the lifespans of the two types of bulbs."
   ]
  },
  {
   "cell_type": "markdown",
   "metadata": {},
   "source": [
    "H0: There is no significant difference b/w them(mu1 = mu2) <br>\n",
    "H1: There is significant difference b/w two bulbs(mu1 not equals mu2)<br>\n",
    "It is a two-tail test. so p = 2 * ( 1 - cdf(abs(z_stati)))"
   ]
  },
  {
   "cell_type": "code",
   "execution_count": 9,
   "metadata": {},
   "outputs": [],
   "source": [
    "# sample 1\n",
    "n1 = 100\n",
    "mean1 = 1500\n",
    "std1 = 300\n",
    "# sample 2\n",
    "n2 = 120\n",
    "mean2 = 1450\n",
    "std2 = 320\n",
    "aplha = 0.05"
   ]
  },
  {
   "cell_type": "code",
   "execution_count": 10,
   "metadata": {},
   "outputs": [
    {
     "name": "stdout",
     "output_type": "stream",
     "text": [
      "Z value is: 1.1940919199575821\n",
      "P value is: 0.2324420135643246\n",
      "Fail to reject null hypothesis\n"
     ]
    }
   ],
   "source": [
    "z_value = (mean1 - mean2) / math.sqrt(((std1 ** 2) / n1) + ((std2 ** 2) / n2))\n",
    "print(f\"Z value is: {z_value}\")\n",
    "p_value = 2 * (1 - stats.norm.cdf(abs(z_value)))\n",
    "print(f\"P value is: {p_value}\")\n",
    "if p_value < aplha:\n",
    "    print(\"Reject Null hypothesis\")\n",
    "else:\n",
    "    print(\"Fail to reject null hypothesis\")"
   ]
  },
  {
   "cell_type": "code",
   "execution_count": 11,
   "metadata": {},
   "outputs": [],
   "source": [
    "sample1 = np.random.normal(loc=mean1,scale=std1,size=n1)\n",
    "sample2 = np.random.normal(loc=mean2,scale=std2,size=n2)"
   ]
  },
  {
   "cell_type": "code",
   "execution_count": 13,
   "metadata": {},
   "outputs": [
    {
     "data": {
      "text/plain": [
       "(-1.3296797476747753, 0.1836238103273865)"
      ]
     },
     "execution_count": 13,
     "metadata": {},
     "output_type": "execute_result"
    }
   ],
   "source": [
    "z_score_two_sample, p_value_two_sample = ztest(sample1, sample2)\n",
    "z_score_two_sample, p_value_two_sample"
   ]
  },
  {
   "cell_type": "markdown",
   "metadata": {},
   "source": [
    "**Paired test**"
   ]
  },
  {
   "cell_type": "markdown",
   "metadata": {},
   "source": [
    "A paired Z-test is used for comparing the means of two related groups, such as measurements taken on the same subjects before and after an intervention.\n",
    "\n",
    "Define hypotheses: <br>\n",
    "H0: 𝜇𝑑 = 0 (The mean of the differences is zero) <br>\n",
    "H1: ud not equals to 0"
   ]
  },
  {
   "cell_type": "code",
   "execution_count": 15,
   "metadata": {},
   "outputs": [
    {
     "name": "stdout",
     "output_type": "stream",
     "text": [
      "Paired Z-test Z-score: 6.354889093022426\n",
      "Paired Z-test p-value: 2.085771555471183e-10\n"
     ]
    }
   ],
   "source": [
    "before = np.array([20, 18, 19, 22, 20, 23, 21, 22])\n",
    "after = np.array([18, 17, 16, 20, 19, 21, 20, 19])\n",
    "\n",
    "differences = before - after\n",
    "mean_diff = np.mean(differences)\n",
    "std_diff = np.std(differences, ddof=1)\n",
    "n = len(differences)\n",
    "\n",
    "z_score_paired = mean_diff / (std_diff / np.sqrt(n))\n",
    "\n",
    "# Calculate the p-value (two-tailed)\n",
    "p_value_paired = 2 * (1 - stats.norm.cdf(abs(z_score_paired)))\n",
    "\n",
    "print(f\"Paired Z-test Z-score: {z_score_paired}\")\n",
    "print(f\"Paired Z-test p-value: {p_value_paired}\")\n"
   ]
  },
  {
   "cell_type": "markdown",
   "metadata": {},
   "source": [
    "## T-test"
   ]
  },
  {
   "cell_type": "markdown",
   "metadata": {},
   "source": [
    "T-Test: Quick Revision\n",
    "A T-test is a statistical test used to compare the means of one or two groups, helping determine if there is a statistically significant difference between them. It's commonly used when the sample size is small or when the population standard deviation is unknown."
   ]
  },
  {
   "cell_type": "markdown",
   "metadata": {},
   "source": [
    "for one sample test: t = X bar - mu / (s/root(n)) <br>\n",
    "for two sample test: t = X1 bar - X2 bar / root(square(sp2 (1/n1 + 1/n2) )) <br>\n",
    "for paired sample test: t = D bar / (Sd / root(n))"
   ]
  },
  {
   "cell_type": "markdown",
   "metadata": {},
   "source": [
    "**Uses of T-Tests** <br>\n",
    "Hypothesis Testing: Used to test hypotheses about population means.<br>\n",
    "Small Samples: Suitable for small samples (generally \n",
    "𝑛\n",
    "<\n",
    "30.)<br>\n",
    "Unknown Population Variance: Often used when population variance is unknown. <br>\n"
   ]
  },
  {
   "cell_type": "markdown",
   "metadata": {},
   "source": [
    "**Assumptions**<br>\n",
    "Normality: Data should follow a normal distribution (especially important for small samples).<br>\n",
    "Independence: Observations should be independent.<br>\n",
    "Equal Variances (for two-sample t-tests): Known as homogeneity of variance; applies when comparing two groups."
   ]
  },
  {
   "cell_type": "code",
   "execution_count": null,
   "metadata": {},
   "outputs": [],
   "source": []
  }
 ],
 "metadata": {
  "kernelspec": {
   "display_name": "Python 3",
   "language": "python",
   "name": "python3"
  },
  "language_info": {
   "codemirror_mode": {
    "name": "ipython",
    "version": 3
   },
   "file_extension": ".py",
   "mimetype": "text/x-python",
   "name": "python",
   "nbconvert_exporter": "python",
   "pygments_lexer": "ipython3",
   "version": "3.11.3"
  }
 },
 "nbformat": 4,
 "nbformat_minor": 2
}
